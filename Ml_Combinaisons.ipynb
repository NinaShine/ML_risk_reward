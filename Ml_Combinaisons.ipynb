{
 "cells": [
  {
   "cell_type": "code",
   "execution_count": 1,
   "id": "9f26b118-0f86-4bf4-b936-f6cc8140d3f9",
   "metadata": {},
   "outputs": [
    {
     "data": {
      "text/plain": [
       "('# Multi-label Classification: Claim vs Ref vs Context (SciTweets Dataset)\\n',\n",
       " '\\n',\n",
       " 'This notebook trains a multi-label classifier using sentence embeddings and metadata to predict whether a tweet is a scientific claim, reference, or context using the `scitweets_export.tsv` dataset.')"
      ]
     },
     "execution_count": 1,
     "metadata": {},
     "output_type": "execute_result"
    }
   ],
   "source": [
    "\"# Multi-label Classification: Claim vs Ref vs Context (SciTweets Dataset)\\n\",\"\\n\",\"This notebook trains a multi-label classifier using sentence embeddings and metadata to predict whether a tweet is a scientific claim, reference, or context using the `scitweets_export.tsv` dataset.\"\n"
   ]
  },
  {
   "cell_type": "code",
   "execution_count": 6,
   "id": "dc866ee7-a5f0-4fa5-8844-401218538ac8",
   "metadata": {},
   "outputs": [],
   "source": [
    "import pandas as pd\n",
    "from sklearn.model_selection import train_test_split\n",
    "from sklearn.ensemble import RandomForestRegressor\n",
    "from sklearn.compose import ColumnTransformer\n",
    "from sklearn.multioutput import MultiOutputRegressor\n",
    "from sklearn.compose import ColumnTransformer\n",
    "from sklearn.preprocessing import OneHotEncoder, StandardScaler\n",
    "from sklearn.pipeline import Pipeline\n",
    "from sklearn.model_selection import cross_val_score\n",
    "\n",
    "\n",
    "from sklearn.preprocessing import LabelEncoder\n",
    "from sklearn.metrics import mean_absolute_error, mean_squared_error, r2_score\n",
    "import numpy as np\n",
    "from xgboost import XGBRegressor\n",
    "    "
   ]
  },
  {
   "cell_type": "code",
   "execution_count": 7,
   "id": "e8bc751c-1922-4977-863d-18f10a78fcad",
   "metadata": {},
   "outputs": [],
   "source": [
    "# Chargement\n",
    "df = pd.read_csv(\"cleaned_output.csv\")\n",
    "\n",
    "# Définir les colonnes par type\n",
    "categorical_cols = ['genre', 'nationalite', 'niveauEtudes', 'associationType', 'personAType', 'personBType']\n",
    "numerical_cols = ['age']\n",
    "\n",
    "# Fonction d'affichage des métriques\n",
    "def regression_metrics(y_true, y_pred, task_name=\"\"):\n",
    "    mae = mean_absolute_error(y_true, y_pred)\n",
    "    mse = mean_squared_error(y_true, y_pred)\n",
    "    rmse = np.sqrt(mse)\n",
    "    r2 = r2_score(y_true, y_pred)\n",
    "\n",
    "    print(f\"\\n=== Résultats pour {task_name} ===\")\n",
    "    print(f\"MAE  : {mae:.3f}\")\n",
    "    print(f\"MSE  : {mse:.3f}\")\n",
    "    print(f\"RMSE : {rmse:.3f}\")\n",
    "    print(f\"R²   : {r2:.3f}\")"
   ]
  },
  {
   "cell_type": "code",
   "execution_count": 8,
   "id": "9cfe208c-b1cf-4996-89fa-00dd241eff8b",
   "metadata": {},
   "outputs": [
    {
     "name": "stdout",
     "output_type": "stream",
     "text": [
      "\n",
      "=== Résultats pour valueOneA & valueOneB ===\n",
      "MAE  : 1.850\n",
      "MSE  : 6.297\n",
      "RMSE : 2.509\n",
      "R²   : 0.191\n"
     ]
    }
   ],
   "source": [
    "    # Données\n",
    "X1 = df[categorical_cols + numerical_cols]\n",
    "y1 = df[['valueOneA', 'valueOneB']]\n",
    "\n",
    "# Prétraitement\n",
    "preprocessor1 = ColumnTransformer([\n",
    "    ('onehot', OneHotEncoder(handle_unknown='ignore'), categorical_cols),\n",
    "    ('scale', StandardScaler(), numerical_cols)\n",
    "])\n",
    "\n",
    "# Pipeline\n",
    "model1 = Pipeline(steps=[\n",
    "    ('preprocess', preprocessor1),\n",
    "    ('regressor', MultiOutputRegressor(XGBRegressor(n_estimators=100, learning_rate=0.1, max_depth=4)))\n",
    "])\n",
    "\n",
    "# Split\n",
    "X1_train, X1_test, y1_train, y1_test = train_test_split(X1, y1, test_size=0.2, random_state=42)\n",
    "\n",
    "# Entraînement & prédiction\n",
    "model1.fit(X1_train, y1_train)\n",
    "y1_pred = model1.predict(X1_test)\n",
    "\n",
    "# Évaluation\n",
    "regression_metrics(y1_test, y1_pred, \"valueOneA & valueOneB\")\n"
   ]
  },
  {
   "cell_type": "code",
   "execution_count": 9,
   "id": "d4e069f9-7310-4cde-a0b1-4e4ad9de23fe",
   "metadata": {},
   "outputs": [
    {
     "name": "stdout",
     "output_type": "stream",
     "text": [
      "\n",
      "=== Résultats pour valueTwoA & valueTwoB ===\n",
      "MAE  : 1.649\n",
      "MSE  : 4.968\n",
      "RMSE : 2.229\n",
      "R²   : 0.322\n"
     ]
    }
   ],
   "source": [
    "# Données\n",
    "X2 = df[['valueOneA', 'valueOneB'] + categorical_cols + numerical_cols]\n",
    "y2 = df[['valueTwoA', 'valueTwoB']]\n",
    "\n",
    "# Prétraitement\n",
    "preprocessor2 = ColumnTransformer([\n",
    "    ('onehot', OneHotEncoder(handle_unknown='ignore'), categorical_cols),\n",
    "    ('scale', StandardScaler(), ['valueOneA', 'valueOneB'] + numerical_cols)\n",
    "])\n",
    "\n",
    "# Pipeline\n",
    "model2 = Pipeline(steps=[\n",
    "    ('preprocess', preprocessor2),\n",
    "    ('regressor', MultiOutputRegressor(XGBRegressor(n_estimators=100, learning_rate=0.1, max_depth=4)))\n",
    "])\n",
    "\n",
    "# Split\n",
    "X2_train, X2_test, y2_train, y2_test = train_test_split(X2, y2, test_size=0.2, random_state=42)\n",
    "\n",
    "# Entraînement & prédiction\n",
    "model2.fit(X2_train, y2_train)\n",
    "y2_pred = model2.predict(X2_test)\n",
    "\n",
    "# Évaluation\n",
    "regression_metrics(y2_test, y2_pred, \"valueTwoA & valueTwoB\")\n"
   ]
  },
  {
   "cell_type": "code",
   "execution_count": 10,
   "id": "31836e78-1466-43bb-ad82-7b2c43130ce8",
   "metadata": {},
   "outputs": [
    {
     "name": "stdout",
     "output_type": "stream",
     "text": [
      "\n",
      "🔎 Traitement pour associationType = 'risk-reward'\n",
      "Scores R² (Tâche 1) : [ 0.12647158 -0.17503059  0.12687975]\n",
      "Moyenne : 0.026 ± 0.142\n",
      "Scores R² (Tâche 2) : [0.3057906  0.11643368 0.3136954 ]\n",
      "Moyenne : 0.245 ± 0.091\n",
      "\n",
      "🔎 Traitement pour associationType = 'risk-effort'\n",
      "Scores R² (Tâche 1) : [-0.44255388 -0.11532158 -0.23206705]\n",
      "Moyenne : -0.263 ± 0.135\n",
      "Scores R² (Tâche 2) : [0.26466721 0.34036171 0.3721168 ]\n",
      "Moyenne : 0.326 ± 0.045\n",
      "\n",
      "🔎 Traitement pour associationType = 'effort-reward'\n",
      "Scores R² (Tâche 1) : [0.38865143 0.00189281 0.35179776]\n",
      "Moyenne : 0.247 ± 0.174\n",
      "Scores R² (Tâche 2) : [ 0.14222965 -0.15733945  0.03827488]\n",
      "Moyenne : 0.008 ± 0.124\n"
     ]
    }
   ],
   "source": [
    "#Boucle sur les types d'association pour entraînement séparé\n",
    "\n",
    "association_types = df['associationType'].unique()\n",
    "\n",
    "for assoc in association_types:\n",
    "    print(f\"\\n🔎 Traitement pour associationType = '{assoc}'\")\n",
    "\n",
    "    df_subset = df[df['associationType'] == assoc]\n",
    "\n",
    "    # Tâche 1 : prédiction de valueOneA et valueOneB\n",
    "    X1_sub = df_subset[categorical_cols + numerical_cols]\n",
    "    y1_sub = df_subset[['valueOneA', 'valueOneB']]\n",
    "\n",
    "    model1_sub = Pipeline(steps=[\n",
    "        ('preprocess', preprocessor1),\n",
    "        ('regressor', MultiOutputRegressor(XGBRegressor(n_estimators=100, learning_rate=0.1, max_depth=4)))\n",
    "    ])\n",
    "\n",
    "    if len(df_subset) >= 10:\n",
    "        scores1 = cross_val_score(model1_sub, X1_sub, y1_sub, cv=3, scoring='r2')\n",
    "        print(f\"Scores R² (Tâche 1) : {scores1}\")\n",
    "        print(f\"Moyenne : {scores1.mean():.3f} ± {scores1.std():.3f}\")\n",
    "    else:\n",
    "        print(\"Échantillon trop petit pour validation croisée (Tâche 1)\")\n",
    "\n",
    "    # Tâche 2 : prédiction de valueTwoA et valueTwoB\n",
    "    X2_sub = df_subset[['valueOneA', 'valueOneB'] + categorical_cols + numerical_cols]\n",
    "    y2_sub = df_subset[['valueTwoA', 'valueTwoB']]\n",
    "\n",
    "    model2_sub = Pipeline(steps=[\n",
    "        ('preprocess', preprocessor2),\n",
    "        ('regressor', MultiOutputRegressor(XGBRegressor(n_estimators=100, learning_rate=0.1, max_depth=4)))\n",
    "    ])\n",
    "\n",
    "    if len(df_subset) >= 10:\n",
    "        scores2 = cross_val_score(model2_sub, X2_sub, y2_sub, cv=3, scoring='r2')\n",
    "        print(f\"Scores R² (Tâche 2) : {scores2}\")\n",
    "        print(f\"Moyenne : {scores2.mean():.3f} ± {scores2.std():.3f}\")\n",
    "    else:\n",
    "        print(\"Échantillon trop petit pour validation croisée (Tâche 2)\")\n"
   ]
  },
  {
   "cell_type": "code",
   "execution_count": null,
   "id": "c9627225-b7d1-4d51-bceb-2c0f9a40da48",
   "metadata": {},
   "outputs": [],
   "source": []
  }
 ],
 "metadata": {
  "kernelspec": {
   "display_name": "Python 3 (ipykernel)",
   "language": "python",
   "name": "python3"
  },
  "language_info": {
   "codemirror_mode": {
    "name": "ipython",
    "version": 3
   },
   "file_extension": ".py",
   "mimetype": "text/x-python",
   "name": "python",
   "nbconvert_exporter": "python",
   "pygments_lexer": "ipython3",
   "version": "3.12.3"
  }
 },
 "nbformat": 4,
 "nbformat_minor": 5
}
