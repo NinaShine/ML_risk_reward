{
 "cells": [
  {
   "cell_type": "code",
   "execution_count": 2,
   "id": "9f26b118-0f86-4bf4-b936-f6cc8140d3f9",
   "metadata": {},
   "outputs": [
    {
     "data": {
      "text/plain": [
       "('# Multi-label Classification: Claim vs Ref vs Context (SciTweets Dataset)\\n',\n",
       " '\\n',\n",
       " 'This notebook trains a multi-label classifier using sentence embeddings and metadata to predict whether a tweet is a scientific claim, reference, or context using the `scitweets_export.tsv` dataset.')"
      ]
     },
     "execution_count": 2,
     "metadata": {},
     "output_type": "execute_result"
    }
   ],
   "source": [
    "\"# Multi-label Classification: Claim vs Ref vs Context (SciTweets Dataset)\\n\",\"\\n\",\"This notebook trains a multi-label classifier using sentence embeddings and metadata to predict whether a tweet is a scientific claim, reference, or context using the `scitweets_export.tsv` dataset.\"\n"
   ]
  },
  {
   "cell_type": "code",
   "execution_count": null,
   "id": "e8bc751c-1922-4977-863d-18f10a78fcad",
   "metadata": {},
   "outputs": [],
   "source": []
  }
 ],
 "metadata": {
  "kernelspec": {
   "display_name": "Python 3 (ipykernel)",
   "language": "python",
   "name": "python3"
  },
  "language_info": {
   "codemirror_mode": {
    "name": "ipython",
    "version": 3
   },
   "file_extension": ".py",
   "mimetype": "text/x-python",
   "name": "python",
   "nbconvert_exporter": "python",
   "pygments_lexer": "ipython3",
   "version": "3.12.3"
  }
 },
 "nbformat": 4,
 "nbformat_minor": 5
}
